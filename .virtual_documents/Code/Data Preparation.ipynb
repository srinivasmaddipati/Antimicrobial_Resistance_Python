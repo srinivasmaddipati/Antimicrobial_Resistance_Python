


# importing necessry libraries
import os
import numpy as np
import pandas as pd
import matplotlib.pyplot as plt
%matplotlib inline
import seaborn as sns
import warnings
warnings.filterwarnings("ignore")


# Load dataset
df = pd.read_stata("D:\\DS & DA Projects\\ICMR Antimicrobial Resistance\\Files\\1730707893_amr_data.dta",convert_categoricals=False)

df.head()


# total rows and columns
df.shape


# Discreption about numetical columns
df.describe()


# Dataset information
df.info()








# Renaming of columns
df.rename(columns={'pv1': 'Gender', 'pv2': 'Age'}, inplace=True)



df.rename(columns={'pv3': 'District', 'pv4': 'State', 'pv5': 'Country', 'pv6': 'location type',
                  'hv1': 'Hospital ID', 'hv2': 'Date of Admission', 'hv3': 'Hospital department', 'hv4': 'Hospital Department type',
                  'hv6': 'Clinical Diagnosis', 'hv7': 'Comorbidity', 'hv8': 'Whether device used?', 'hv9': 'Patient with Devices',
                  'hv10': 'Prior Admission in Last 3 months', 'sv1': 'Date of sample Collection', 'sv2': 'Sample Type', 
                  'sv3': 'antibiotic prescription in last 1 months?', 'sv4': 'Antibiotics/Antifungals taken in last 1 month',
                  'suv1': 'AMR ID'}, inplace=True)


df.rename(columns={'hv5': 'Infection Type', 'suv2': 'Suscepbility ID', 'suv3': 'Sample ID', 'suv4': 'Hospital Patient Relation ID',
                  'suv5': 'Patient ID', 'suv6': 'Antibiotic', 'suv7': 'Panel ID', 'suv8': 'special test type',
                  'suv9': 'Special Test', 'suv10': 'Organism', 'suv11': 'Identification Method', 'suv12': 'Susceptibility Test Type',
                  'suv13': 'Value', 'suv14': 'Remarks'}, inplace=True)





df.info()


antibiotics = {1 :"Amikacin", 2: "Amikacin",3: "Cefepime",4: "Cefepime",5: "Cefoperazone-sulbactam",6: "Cefoperazone-sulbactam",7: "Cefotaxime",
               8: "Cefotaxime",9: "Ceftazidime",10: "Ceftazidime",11: "Ciprofloxacin",12: "Ciprofloxacin",13: "Colistin",14: "Doxycycline",
               15: "Doxycycline",16: "Ertapenem",17: "Ertapenem",18: "Imipenem",19: "Imipenem",20: "Meropenem",21: "Meropenem",22: "Nitrofurantoin",
               23: "Nitrofurantoin",24: "Norfloxacin",25: "Norfloxacin",26: "Piperacillin-tazobactam",27: "Piperacillin-tazobactam",
               28: "Trimethoprim-sulfamethoxazole",29: "Trimethoprim-sulfamethoxazole",30: "Ampicillin",31: "Ampicillin",32: "Cefixime",
               33: "Cefixime",34: "Ceftriaxone",35: "Ceftriaxone",36: "Chloramphenicol",37: "Chloramphenicol",38: "Ofloxacin",39: "Aztreonam",
               40: "Aztreonam",41: "Colistin",42: "Colistin",43: "Gentamicin",44: "Gentamicin",45: "Levofloxacin",46: "Levofloxacin",47:"Netilmicin",
               48: "Netilmicin",49: "Tobramycin",50: "Tobramycin",52: "Tetracycline",53: "Tetracycline",58: "Minocycline",59: "Minocycline",
               60: "Ticarcillin-clavulanic acid",62: "Azithromycin",63: "Clindamycin",64: "Nalidixic acid",65: "Nalidixic acid",66: "Cefoxitin",
               67: "Cefoxitin",68: "Clindamycin",69: "Clindamycin",70: "Erythromycin",71: "Erythromycin",72: "Linezolid",73: "Linezolid",
               74: "Mupirocin High Level",75: "Mupirocin High Level",76: "Penicillin",77: "Penicillin",78: "Teicoplanin",79: "Teicoplanin",
               80: "Tigecycline",81: "Vancomycin",84: "Vancomycin",86: "Gentamicin_HL",87: "Gentamicin_HL",88: "Anidulafungin",89: "Anidulafungin",
               90: "Caspofungin",91: "Caspofungin",92: "Micafungin",93: "Micafungin",94: "Fluconazole",95: "Fluconazole",96: "Voriconazole",
               97: "Voriconazole",98: "Amphotericin B",99: "Itraconazole",100: "Posaconazole",101: "Amphotericin B",102: "Itraconazole",
               103: "Posaconazole",104: "Tigecycline",105: "Tigecycline",106: "Oxacillin",107: "Oxacillin",108: "Cefazolin",109: "Cefazolin",
               110: "Fosfomycin",111: "Fosfomycin",112: "Azithromycin",114: "Pefloxacin",115: "Oritavancin",116: "Tedizolid",117: "Telavancin",
               118: "Imipenem-relebactam",119: "Imipenem-relebactam",120: "Ceftazidime-avibactam",121: "Ceftazidime-avibactam",
               124: "Meropenem-vaborbactam",125: "Meropenem-vaborbactam",126: "Polymixin B",127: "Daptomycin",
               128: "Penicillin (Parental and Meningitis)",129: "Penicillin (Parental and Nonmeningitis)",130: "Penicillin (Oral)",
               131: "Cefotaxime (Non-meningitis)",132: "Cefotaxime (Meningitis)",133: "Ceftriaxone (Non-meningitis)",
               134: "Ceftriaxone (Meningitis)",135: "Ceftaroline",136: "Ceftaroline" 
              }

df['Antibiotic'] = df['Antibiotic'].replace(antibiotics)



pannel = {1: "Enterobacteriaceae-Urine",2: "Enterobacteriaceae-Non urine",3: "Typhoidal Salmonella",4: "Pseudomonas aeruginosa",
          5: "Acinetobacter",6: "Burkholderia cepacia",7: "Stenotrophomonas maltophilia",8: "Shigella, DEC",9: "Faecal Salmonella, Arizona",
          10: "Vibrio",11: "Campylobacter",12: "Aeromonas, Plesiomonas",13: "Staphylococcus aureus",14: "Staphylococcus Coagulase Negative",
          15: "Enterococci faecium and spp - Urine",17: "Staphylococcus lugdunensis",18: "Staphylococcus pseudointermedius",
          19: "Enterococci - Non urine",20: "Yeasts",21: "Candida glabrata",22: "Candida parapsilosis",23: "Candida krusei",
          24: "Candida guilliermondii",25: "Aspergillus",26: "Aspergillus terreus",27: "Aspergillus nidulans",28: "Streptococcus pneumoniae",
          29: "Streptococcus beta haemolytic group",30: "Streptococcus viridans",31: "Candida albicans"
         }

df['Panel ID'] = df['Panel ID'].replace(pannel)



special_test_type = {1: 'Genotypic',2: 'Phenotypic' }

df['special test type'] = df['special test type'].replace(special_test_type)


special_test = {1: "ESBL",2: "AmpC",6: "CMY",7: "DHA",8: "TEM",10: "Carba NP confirmatory test",11: "Carba NP screening test",
                12: "Carbapenemase-Imipenem-Aminophenyl boronic acid",13: "Carbapenemase-Imipenem-Phenyl boronic acid",
                14: "Carbapenemase-Imipenem-Cloxacillin",15: "Carbapenemase-Imipenem-EDTA",
                17: "Efflux pump over expression-Levofloxacin-EPIPAbetaN",18: "CarbAcineto NP screening test",
                19: "Outer membrane porin loss detection-OprD",20: "Outer membrane porin loss detection-CarO",
                21: "Beta lactamase Penicillin zone edge test",22: "Beta lactamase Nitrocefin test",23: "PBP2a latex agglutination test",
                24: "D-test for inducible Clindamycin resistance",25: "SHV",26: "OXA-1",30: "CTX-M-1",31: "CTX-M-2",32: "CTX-M-9",34: "CTX-M-8/25",
                35: "ACC",36: "MOX",38: "CIT",39: "EBC",40: "VEB",41: "GES",42: "PER",43: "VIM",44: "IMP",45: "KPC",50: "NDM-1",51: "gyrA",
                52: "gyrB",53: "parC",54: "parE",55: "qnrA",56: "qnrB",57: "qnrS",58: "acrR",60: "FOX",61: "SPM",62: "OXA 48 like",63: "MexAB-OprM",
                64: "MexXY-OprM",65: "MexCD-OprJ",66: "MexEF-OprN",67: "OprD",68: "OXA 51",69: "OXA 23",70: "OXA 24",71: "OXA 58",72: "bla-OXA",
                73: "dhfrIa",74: "sul1",76: "aac(6')-Ib-cr",77: "bla-TEM",78: "dfrA1",79: "sul2",80: "tetA",81: "nim",83: "tet",84: "tetO",
                85: "aerA",86: "act",87: "hly",88: "mecA",89: "mupA",90: "mupB",91: "ermA",92: "ermB",93: "ermC",94: "vanA",95: "vanB",96: "vanC",
                97: "vanHAX",98: "aac(6')-Ie",99: "aph(2'')-Ia",100: "aph(2'')-Ib",101: "aph(2'')-Ic",102: "aph(2'')-Id",103: "aph(3')-IIIa",
                104: "ant(4')-Ia",105: "Carbapenemase Modified Hodge test",106: "alt",107: "AmpC",108: "CTX-M",109: "Modified Hodge test",
                110: "Carba-NP test",111: "Modified carbapenem inactivation method (mCIM)",112: "Cfr",113: "GES",114: "ERG11-A114S",
                115: "ERG11-Y132F/H",116: "ERG11-K143R/Q",117: "ERG11-D446E",118: "ERG11-G448E",119: "ERG11-G450E",120: "ERG11- G464S",
                121: "ERG11-R467K",122: "FKS1-S645P/F/Y",123: "FKS1-F641S/L",124: "FKS1-D648Y",125: "FKS1-P649H",126: "FKS1-R1361H",
                127: "Zygosity of the mutation",128: "Any other genetic alteration",129: "ERG11-Y132F",130: "ERG11-G464S",131: "ERG11-Y257H",
                132: "ERG11-V125A",133: "FKS1-S654P",135: "ERG11-K143R",136: "FKS1-S639P",137: "FKS1-S639F",139: "FKS1-F635Y",140: "FKS1-F635L",
                141: "FKS1-R1354S",142: "FKS1-S663F/P",143: "FKS1-S659S/V/Y/Ã¢Ë†â€ ",144: "FKS1- L664R",145: "FKS1-P667T",146: "FKS2-S629P",
                147: "FKS2-F625S",148: "FKS2-F623E/G",149: "TR34/L98H",150: "TR46/Y121F/T289A",151: "Cyp51A-G54",152: "Cyp51A-M220",
                153: "Cyp51A-Y319H",154: "Cyp51A-S196F",155: "Cyp51A-N423D",
               }

df['Special Test'] = df['Special Test'].replace(special_test)



text = '''1 "Escherichia coli"
2 "Citrobacter freundii"
3 "Citrobacter koseri"
4 "Citrobacter spp."
5 "Klebsiella pneumoniae"
6 "Klebsiella oxytoca "
7 "Klebsiella spp. "
8 "Klebsiella (Enterobacter) aerogenes"
9 "Enterobacter cloacae "
10 "Enterobacter spp."
11 "Hafnia alvei "
12 "Serratia marcescens "
13 "Proteus mirabilis "
14 "Proteus vulgaris "
15 "Morganella morganii "
16 "Providencia rettgeri "
17 "Providencia stuartii "
18 "Salmonella Typhi "
19 "Salmonella Paratyphi A "
20 "Salmonella spp. "
21 "Pseudomonas aeruginosa"
23 "Acinetobacter baumannii "
24 "Acinetobacter calcoaceticus "
25 "Acinetobacter lwoffii "
26 "Acinetobacter spp. "
27 "Stenotrophomonas maltophilia "
28 "Burkholderia cepacia "
29 "Staphylococcus aureus"
32 "Staphylococcus lugdunensis"
35 "Staphylococcus haemolyticus"
36 "Staphylococcus epidermidis"
37 "Staphylococcus hominis"
38 "Staphylococcus saprophyticus"
39 "Enterococcus faecalis"
40 "Enterococcus faecium"
41 "Enterococcus spp."
42 "Aeromonas spp. "
43 "Arizona spp. "
44 "Vibrio cholerae "
45 "Vibrio parahaemolyticus "
46 "Vibrio spp."
47 "Escherichia coli Diarrhoeagenic"
48 "Campylobacter jejuni "
50 "Shigella dysenteriae"
51 "Shigella flexneri "
52 "Shigella boydii"
53 "Shigella sonnei "
54 "Shigella spp. "
55 "Salmonella spp. Faecal"
56 "Salmonella Typhimurium Faecal"
57 "Salmonella Enteritidis "
58 "Salmonella Newport "
59 "Salmonella Heidelberg "
60 "Plesiomonas shigelloides "
62 "Staphylococcus spp."
63 "Staphylococcus pseudointermedius"
64 "Aspergillus flavus "
65 "Aspergillus fumigatus "
66 "Aspergillus terreus "
67 "Aspergillus versicolor "
68 "Aspergillus nidulans "
69 "Aspergillus niger "
70 "Blastobortrys adeninivorans"
71 "Candida haemulonii"
72 "Candida krusei"
73 "Candida auris"
74 "Candida vishwanathii"
75 "Candida catenulata"
76 "Candida chiropterorum"
77 "Candida famata"
78 "Candida intermedia"
79 "Candida kefyr"
80 "Candida lipolytica"
81 "Candida lusitaniae"
82 "Candida nivariensis"
83 "Candida pararugosa"
84 "Candida pelliculosa"
85 "Candida rugosa"
86 "Candida utilis"
87 "Candida albicans "
88 "Candida guilliermondii "
89 "Candida glabrata "
90 "Candida parapsilosis "
91 "Candida tropicalis"
92 "Cryptococcus neoformans"
93 "Cryptococcus neoformans var gattii"
94 "Cryptococcus neoformans var grubii"
95 "Debaromyces hansenii"
96 "Kodamaea ohmeri"
97 "Pichia fabianii"
98 "Pichia jadinii"
99 "Pichia kudriavzevii"
100 "Pseudozyma aphidis"
101 "Pseudozyma churashimaensis"
102 "Rhizopus oryzae"
103 "Rhizopus homothallicus"
104 "Rhizopus microsporus"
105 "Rhodotorula mucilaginosa"
106 "Rhodotorula glutinis"
107 "Saccharomyces cerevisiae"
108 "Trichosporon asahii"
109 "Trichosporon mucoides"
110 "Trichophyton mentagrophytes"
111 "Acinetobacter baumanii-calcoaceticus complex"
112 "Burkholderia cepacia complex"
113 "Streptococcus pneumoniae"
114 "Streptococcus pyogenes"
115 "Streptococcus agalactiae"
116 "Streptococcus viridans"
117 "Wickeromyces anomalus"
118 "Rhizopus arrhizus"
'''


species_dict = {}

for line in text.strip().split("\n"):
    parts = line.split(" ", 1)  # Split on the first space
    key = int(parts[0])  # Convert the first part to an integer
    value = parts[1].strip('"')  # Remove surrounding quotes
    species_dict[key] = value  # Add to dictionary

# Print dictionary
print(species_dict)


df['Organism'] = df['Organism'].replace(species_dict)


text2 = '''1 "Biochemical test"
2 "Proteomics"
3 "Vitek-2"
4 "MaldiToff"
5 "16s rRNA Sequencing"
6 "Whole Genome Sequencing"
7 "Conventional identification by microscopy/phenotype"
'''
identification = {}

for line in text2.strip().split("\n"):
    parts = line.split(" ", 1) 
    key = int(parts[0])
    value = parts[1].strip('"')
    identification[key] = value

df['Identification Method'] = df['Identification Method'].replace(species_dict)


text3 = '''1 "AUTOMATED"
2 "DISK"
3 "ETEST"
4 "MIC"
'''
Susceptibility_Test_Type = {}

for line in text3.strip().split("\n"):
    parts = line.split(" ", 1) 
    key = int(parts[0])
    value = parts[1].strip('"')
    Susceptibility_Test_Type[key] = value

df['Susceptibility Test Type'] = df['Susceptibility Test Type'].replace(Susceptibility_Test_Type)


df.info()


text4 = '''1 "susceptible "
2 "Intermediate"
3 "resistant" 
'''
Remarks_ = {}

for line in text4.strip().split("\n"):
    parts = line.split(" ", 1) 
    key = int(parts[0])
    value = parts[1].strip('"')
    Remarks_[key] = value

df['Remarks'] = df['Remarks'].replace(Remarks_)


text5 = '''1 "female"
2 “male"
3 "transgender"
 '''

sex = {}

for line in text5.strip().split("\n"):
    parts = line.split(" ", 1) 
    key = int(parts[0])
    value = parts[1].strip('"')
    sex[key] = value

df['Gender'] = df['Gender'].replace(sex)


text6 = '''1 "Nicobar"
2 "North and Middle Andaman"
3 "South Andaman"
4 "Anantapur"
5 "Chittoor"
6 "East Godavari"
7 "Guntur"
8 "Kadapa"
9 "Krishna"
10 "Kurnool"
11 "Nellore"
12 "Prakasam"
13 "Srikakulam"
14 "Visakhapatnam"
15 "Vizianagaram"
16 "West Godavari"
17 "Anjaw"
18 "Changlang"
19 "Dibang Valley"
20 "East Kameng"
21 "East Siang"
22 "Kurung Kumey"
23 "Lohit"
24 "Longding"
25 "Lower Dibang Valley"
26 "Lower Subansiri"
27 "Papum Pare"
28 "Tawang"
29 "Tirap"
30 "Upper Siang"
31 "Upper Subansiri"
32 "West Kameng"
33 "West Siang"
34 "Baksa"
35 "Barpeta"
36 "Bongaigaon"
37 "Cachar"
38 "Chirang"
39 "Darrang"
40 "Dhemaji"
41 "Dhubri"
42 "Dibrugarh"
43 "Dima Hasao"
44 "Goalpara"
45 "Golaghat"
46 "Hailakandi"
47 "Jorhat"
48 "Kamrup"
49 "Kamrup Metropolitan"
50 "Karbi Anglong"
51 "Karimganj"
52 "Kokrajhar"
53 "Lakhimpur"
54 "Morigaon"
55 "Nagaon"
56 "Nalbari"
57 "Sivasagar"
58 "Sonitpur"
59 "Tinsukia"
60 "Udalguri"
61 "Araria"
62 "Arwal"
63 "Aurangabad"
64 "Banka"
65 "Begusarai"
66 "Bhagalpur"
67 "Bhojpur"
68 "Buxar"
69 "Darbhanga"
70 "East Champaran"
71 "Gaya"
72 "Gopalganj"
73 "Jamui"
74 "Jehanabad"
75 "Kaimur"
76 "Katihar"
77 "Khagaria"
78 "Kishanganj"
79 "Lakhisarai"
80 "Madhepura"
81 "Madhubani"
82 "Munger"
83 "Muzaffarpur"
84 "Nalanda"
85 "Nawada"
86 "Patna"
87 "Purnia"
88 "Rohtas"
89 "Saharsa"
90 "Samastipur"
91 "Saran"
92 "Sheikhpura"
93 "Sheohar"
94 "Sitamarhi"
95 "Siwan"
96 "Supaul"
97 "Vaishali"
98 "West Champaran"
99 "Chandigarh"
100 "Balrampur"
101 "Bastar"
102 "Bemetara"
103 "Bijapur"
104 "Bilaspur"
105 "Dantewada"
106 "Dhamtari"
107 "Durg"
108 "Gariaband"
109 "Janjgir-Champa"
110 "Jashpur"
111 "Kanker"
112 "Kawardha"
113 "Kondagaon"
114 "Korba"
115 "Koriya"
116 "Mahasamund"
117 "Mungeli"
118 "Narayanpur"
119 "Raigarh"
120 "Raipur"
121 "Rajnandgaon"
122 "Sukma"
123 "Surajpur"
124 "Surguja"
125 "Dadra and Nagar Haveli"
126 "Daman"
127 "Diu"
128 "Central Delhi"
129 "East Delhi"
130 "New Delhi"
131 "North Delhi"
132 "North East Delhi"
133 "North West Delhi"
134 "Shahdara"
135 "South Delhi"
136 "South East Delhi"
137 "South West Delhi"
138 "West Delhi"
139 "Margao"
140 "Panji"
141 "Ahmedabad"
142 "Amreli district"
143 "Anand"
144 "Aravalli"
145 "Banaskantha"
146 "Bharuch"
147 "Bhavnagar"
148 "Botad"
149 "Chhota Udaipur"
150 "Dahod"
151 "Dang"
152 "Devbhoomi Dwarka"
153 "Gandhinagar"
154 "Gir Somnath"
155 "Jamnagar"
156 "Junagadh"
157 "Kheda"
158 "Kutch"
159 "Mahisagar"
160 "Mehsana"
161 "Morbi"
162 "Narmada"
163 "Navsari"
164 "Panchmahal"
165 "Patan"
166 "Porbandar"
167 "Rajkot"
168 "Sabarkantha"
169 "Surat"
170 "Surendranagar"
171 "Tapi"
172 "Vadodara"
173 "Valsad"
174 "Ambala"
175 "Bhiwani"
176 "Faridabad"
177 "Fatehabad"
178 "Gurgaon"
179 "Hissar"
180 "Jhajjar"
181 "Jind"
182 "Kaithal"
183 "Karnal"
184 "Kurukshetra"
185 "Mahendragarh"
186 "Mewat"
187 "Palwal"
188 "Panchkula"
189 "Panipat"
190 "Rewari"
191 "Rohtak"
192 "Sirsa"
193 "Sonipat"
194 "Yamuna Nagar"
195 "Bilaspur"
196 "Chamba"
197 "Hamirpur"
198 "Kangra"
199 "Kinnaur"
200 "Kullu"
201 "Lahaul and Spiti"
202 "Mandi"
203 "Shimla"
204 "Sirmaur"
205 "Solan"
206 "Una"
207 "Anantnag"
208 "Badgam"
209 "Bandipora"
210 "Baramulla"
211 "Doda"
212 "Ganderbal"
213 "Jammu"
214 "Kargil"
215 "Kathua"
216 "Kishtwar"
217 "Kulgam"
218 "Kupwara"
219 "Leh"
220 "Poonch"
221 "Pulwama"
222 "Rajouri"
223 "Ramban"
224 "Reasi"
225 "Samba"
226 "Shopian"
227 "Srinagar"
228 "Udhampur"
229 "Bokaro"
230 "Chatra"
231 "Deoghar"
232 "Dhanbad"
233 "Dumka"
234 "East Singhbhum"
235 "Garhwa"
236 "Giridih"
237 "Godda"
238 "Gumla"
239 "Hazaribag"
240 "Jamtara"
241 "Khunti"
242 "Koderma"
243 "Latehar"
244 "Lohardaga"
245 "Pakur"
246 "Palamu"
247 "Ramgarh"
248 "Ranchi"
249 "Sahibganj"
250 "Seraikela Kharsawan"
251 "Simdega"
252 "West Singhbhum"
253 "Bagalkot"
254 "Bangalore Rural"
255 "Bangalore Urban"
256 "Belgaum"
257 "Bellary"
258 "Bidar"
259 "Chamarajnagar"
260 "Chikkaballapur"
261 "Chikkamagaluru"
262 "Chitradurga"
263 "Dakshina Kannada"
264 "Davanagere"
265 "Dharwad"
266 "Gadag"
267 "Gulbarga"
268 "Hassan"
269 "Haveri district"
270 "Kodagu"
271 "Kolar"
272 "Koppal"
273 "Mandya"
274 "Mysore"
275 "Raichur"
276 "Ramanagara"
277 "Shimoga"
278 "Tumkur"
279 "Udupi"
280 "Uttara Kannada"
281 "Vijayapura"
282 "Yadgir"
283 "Alappuzha"
284 "Ernakulam"
285 "Idukki"
286 "Kannur"
287 "Kasaragod"
288 "Kollam"
289 "Kottayam"
290 "Kozhikode"
291 "Malappuram"
292 "Palakkad"
293 "Pathanamthitta"
294 "Thiruvananthapuram"
295 "Thrissur"
296 "Wayanad"
297 "Agar Malwa"
298 "Alirajpur"
299 "Anuppur"
300 "Ashok Nagar"
301 "Balaghat"
302 "Barwani"
303 "Betul"
304 "Bhind"
305 "Bhopal"
306 "Burhanpur"
307 "Chhatarpur"
308 "Chhindwara"
309 "Damoh"
310 "Datia"
311 "Dewas"
312 "Dhar"
313 "Dindori"
314 "Guna"
315 "Gwalior"
316 "Harda"
317 "Hoshangabad"
318 "Indore"
319 "Jabalpur"
320 "Jhabua"
321 "Katni"
322 "Khandwa (East Nimar)"
323 "Khargone (West Nimar)"
324 "Mandla"
325 "Mandsaur"
326 "Morena"
327 "Narsinghpur"
328 "Neemuch"
329 "Panna"
330 "Raisen"
331 "Rajgarh"
332 "Ratlam"
333 "Rewa"
334 "Sagar"
335 "Satna"
336 "Sehore"
337 "Seoni"
338 "Shahdol"
339 "Shajapur"
340 "Sheopur"
341 "Shivpuri"
342 "Sidhi"
343 "Singrauli"
344 "Tikamgarh"
345 "Ujjain"
346 "Umaria"
347 "Vidisha"
348 "Agar Malwa"
349 "Ahmednagar"
350 "Akola"
351 "Aurangabad"
352 "Beed"
353 "Bhandara"
354 "Buldhana"
355 "Chandrapur"
356 "Dhule"
357 "Gadchiroli"
358 "Gondia"
359 "Hingoli"
360 "Jalgaon"
361 "Jalna"
362 "Kolhapur"
363 "Latur"
364 "Mumbai City"
365 "Mumbai suburban"
366 "Nagpur"
367 "Nanded"
368 "Nandurbar"
369 "Nashik"
370 "Osmanabad"
371 "Palghar"
372 "Parbhani"
373 "Pune"
374 "Raigad"
375 "Ratnagiri"
376 "Sangli"
377 "Satara"
378 "Sindhudurg"
379 "Solapur"
380 "Thane"
381 "Wardha"
382 "Washim"
383 "Yavatmal"
384 "Bishnupur"
385 "Chandel"
386 "Churachandpur"
387 "Imphal East"
388 "Imphal West"
389 "Senapati"
390 "Tamenglong"
391 "Thoubal"
392 "Ukhrul"
393 "East Garo Hills"
394 "East Jaintia Hills"
395 "East Khasi Hills"
396 "North Garo Hills"
397 "Ri Bhoi"
398 "South Garo Hills"
399 "South West Garo Hills"
400 "South West Khasi Hills"
401 "West Garo Hills"
402 "West Jaintia Hills"
403 "West Khasi Hills"
404 "Aizawl"
405 "Champhai"
406 "Kolasib"
407 "Lawngtlai"
408 "Lunglei"
409 "Mamit"
410 "Saiha"
411 "Serchhip"
412 "Dimapur"
413 "Kiphire"
414 "Kohima"
415 "Longleng"
416 "Mokokchung"
417 "Mon"
418 "Peren"
419 "Phek"
420 "Tuensang"
421 "Wokha"
422 "Zunheboto"
423 "Angul"
424 "Balangir"
425 "Balasore"
426 "Bargarh (Baragarh)"
427 "Bhadrak"
428 "Boudh (Bauda)"
429 "Cuttack"
430 "Debagarh (Deogarh)"
431 "Dhenkanal"
432 "Gajapati"
433 "Ganjam"
434 "Jagatsinghpur"
435 "Jajpur"
436 "Jharsuguda"
437 "Kalahandi"
438 "Kandhamal"
439 "Kendrapara"
440 "Kendujhar (Keonjhar)"
441 "Khordha"
442 "Koraput"
443 "Malkangiri"
444 "Mayurbhanj"
445 "Nabarangpur"
446 "Nayagarh"
447 "Nuapada"
448 "Puri"
449 "Rayagada"
450 "Sambalpur"
451 "Subarnapur (Sonepur)"
452 "Sundargarh"
453 "Karaikal"
454 "Mahe"
455 "Pondicherry"
456 "Yanam"
457 "Amritsar"
458 "Barnala"
459 "Bathinda"
460 "Faridkot"
461 "Fatehgarh Sahib"
462 "Fazilka"
463 "Firozpur"
464 "Gurdaspur"
465 "Hoshiarpur"
466 "Jalandhar"
467 "Kapurthala"
468 "Ludhiana"
469 "Mansa"
470 "Moga"
471 "Pathankot"
472 "Patiala"
473 "Rupnagar"
474 "Sahibzada Ajit Singh Nagar(Mohali)"
475 "Sangrur"
476 "Shahid Bhagat Singh Nagar"
477 "Sri Muktsar Sahib"
478 "Tarn Taran"
479 "Ajmer"
480 "Alwar"
481 "Banswara"
482 "Baran"
483 "Barmer"
484 "Bharatpur"
485 "Bhilwara"
486 "Bikaner"
487 "Bundi"
488 "Chittorgarh"
489 "Churu"
490 "Dausa"
491 "Dholpur"
492 "Dungapur"
493 "Ganganagar"
494 "Hanumangarh"
495 "Jaipur"
496 "Jaisalmer"
497 "Jalore"
498 "Jhalawar"
499 "Jhunjhunu"
500 "Jodhpur"
501 "Karauli"
502 "Kota"
503 "Nagaur"
504 "Pali"
505 "Pratapgarh"
506 "Rajsamand"
507 "Sawai Madhopur"
508 "Sikar"
509 "Sirohi"
510 "Tonk"
511 "Udaipur"
512 "East Sikkim"
513 "North Sikkim"
514 "South Sikkim"
515 "West Sikkim"
516 "Ariyalur"
517 "Chennai"
518 "Coimbatore"
519 "Cuddalore"
520 "Dharmapuri"
521 "Dindigul"
522 "Erode"
523 "Kanchipuram"
524 "Kanyakumari"
525 "Karur"
526 "Krishnagiri"
527 "Madurai"
528 "Nagapattinam"
529 "Namakkal"
530 "Nilgiris"
531 "Perambalur"
532 "Pudukkottai"
533 "Ramanathapuram"
534 "Salem"
535 "Sivaganga"
536 "Thanjavur"
537 "Theni"
538 "Thoothukudi"
539 "Tiruchirappalli"
540 "Tirunelveli"
541 "Tirupur"
542 "Tiruvallur"
543 "Tiruvannamalai"
544 "Tiruvarur"
545 "Vellore"
546 "Viluppuram"
547 "Virudhunagar"
548 "Adilabad"
549 "Hyderabad"
550 "Karimnagar"
551 "Khammam"
552 "Mahbubnagar"
553 "Medak"
554 "Nalgonda"
555 "Nizamabad"
556 "Ranga Reddy"
557 "Warangal"
558 "Dhalai"
559 "Gomati"
560 "Khowai"
561 "North Tripura"
562 "Sepahijala"
563 "South Tripura"
564 "Unokoti"
565 "West Tripura"
566 "Agra"
567 "Aligarh"
568 "Allahabad"
569 "Ambedkar Nagar"
570 "Amethi (Chhatrapati Shahuji Maharaj Nagar)"
571 "Amroha (Jyotiba Phule Nagar)"
572 "Auraiya"
573 "Azamgarh"
574 "Bagpat"
575 "Bahraich"
576 "Ballia"
577 "Balrampur"
578 "Banda"
579 "Barabanki"
580 "Bareilly"
581 "Basti"
582 "Bijnor"
583 "Budaun"
584 "Bulandshahr"
585 "Chandauli"
586 "Chitrakoot"
587 "Deoria"
588 "Etah"
589 "Etawah"
590 "Faizabad"
591 "Farrukhabad"
592 "Fatehpur"
593 "Firozabad"
594 "Gautam Buddh Nagar"
595 "Ghaziabad"
596 "Ghazipur"
597 "Gonda"
598 "Gorakhpur"
599 "Hamirpur"
600 "Hapur (Panchsheel Nagar)"
601 "Hathras (Mahamaya Nagar)"
602 "Jalaun"
603 "Jaunpur district"
604 "Jhansi"
605 "Kannauj"
606 "Kanpur Dehat (Ramabai Nagar)"
607 "Kanpur Nagar"
608 "Kasganj (Kanshi Ram Nagar)"
609 "Kaushambi"
610 "Kushinagar"
611 "Lakhimpur Kheri"
612 "Lalitpur"
613 "Lucknow"
614 "Maharajganj"
615 "Mahoba"
616 "Mainpuri"
617 "Mathura"
618 "Mau"
619 "Meerut"
620 "Mirzapur"
621 "Moradabad"
622 "Muzaffarnagar"
623 "Pilibhit"
624 "Pratapgarh"
625 "Raebareli"
626 "Rampur"
627 "Saharanpur"
628 "Sambhal (Bheem Nagar)"
629 "Sant Kabir Nagar"
630 "Shahjahanpur"
631 "Shamli"
632 "Shravasti"
633 "Siddharthnagar"
634 "Sitapur"
635 "Sonbhadra"
636 "Sultanpur"
637 "Unnao"
638 "Varanasi"
639 "Almora"
640 "Bageshwar"
641 "Chamoli"
642 "Champawat"
643 "Dehradun"
644 "Haridwar"
645 "Nainital"
646 "Pauri Garhwal"
647 "Pithoragarh"
648 "Rudraprayag"
649 "Tehri Garhwal"
650 "Udham Singh Nagar"
651 "Uttarkashi"
652 "Alipurduar"
653 "Bankura"
654 "Purba Bardhaman"
655 "Birbhum"
656 "Cooch Behar"
657 "Dakshin Dinajpur"
658 "Darjeeling"
659 "Hooghly"
660 "Howrah"
661 "Jalpaiguri"
662 "Kolkata"
663 "Maldah"
664 "Murshidabad"
665 "Nadia"
666 "North 24 Parganas"
667 "Paschim Medinipur"
668 "Purba Medinipur"
669 "Purulia"
670 "South 24 Parganas"
671 "Uttar Dinajpur"
672 "Kalimpong"
673 "Jhargram"
674 "Paschim Bardhaman"
675 "Chhapra"
676 "Hardoi"
677 "Charkhi Dadri"
678 "Hojai"
'''

districts = {}

for line in text6.strip().split("\n"):
    parts = line.split(" ", 1) 
    key = int(parts[0])
    value = parts[1].strip('"')
    districts[key] = value

df['District'] = df['District'].replace(districts)


df.info()


text7 = '''1 "Andaman and Nicobar"
2 "Andhra Pradesh"
3 "Arunachal Pradesh"
4 "Assam"
5 "Bihar"
6 "Chandigarh"
7 "Chhattisgarh"
8 "Dadra and Nagar Haveli"
9 "Daman and Diu"
10 "Delhi"
11 "Goa"
12 "Gujarat"
13 "Haryana"
14 "Himachal Pradesh"
15 "Jammu and Kashmir"
16 "Jharkhand"
17 "Karnataka"
18 "Kerala"
19 "Ladakh"
20 "Lakshadweep (LD)"
21 "Madhya Pradesh"
22 "Maharashtra"
23 "Manipur"
24 "Meghalaya"
25 "Mizoram"
26 "Nagaland"
27 "Odisha"
28 "Puducherry"
29 "Punjab"
30 "Rajasthan"
31 "Sikkim"
32 "Tamil Nadu"
33 "Telangana"
34 "Tripura"
35 "Uttar Pradesh"
36 "Uttarakhand"
37 "West Bengal"
'''

states = {}

for line in text7.strip().split("\n"):
    parts = line.split(" ", 1) 
    key = int(parts[0])
    value = parts[1].strip('"')
    states[key] = value

df['State'] = df['State'].replace(states)


def text_to_dict_and_replace(df, column_name, text):
    """
    Converts a multi-line string of numeric keys and string values into a dictionary
    and replaces numeric values in a specified DataFrame column.

    Args:
        df (pd.DataFrame): The DataFrame where replacements will be applied.
        column_name (str): The column in which numeric values should be replaced.
        text (str): Multiline string containing numeric keys and corresponding string values.

    Returns:
        pd.DataFrame: DataFrame with replaced values.
        dict: The mapping dictionary.
    """
    mapping_dict = {}

    # Convert text to dictionary
    for line in text.strip().split("\n"):
        parts = line.split(" ", 1)  # Split on the first space
        if len(parts) == 2:
            key = int(parts[0])  # Convert first part to integer
            value = parts[1].strip('"')  # Remove surrounding quotes
            mapping_dict[key] = value  # Store in dictionary

    # Replace numeric values in the DataFrame
    df[column_name] = df[column_name].replace(mapping_dict)

    #return df, mapping_dict  # Return modified DataFrame and dictionary




text8 = '''1 "India"
2 "Outside India"
'''
text_to_dict_and_replace(df, 'Country', text8)


text9 = '''1 "Rural"
2 "Urban"
'''
text_to_dict_and_replace(df, 'location type', text9)


text10 = '''1 "Cardiology"
2 "Dermatology"
3 "Medicine"
4 "Gastroenterology"
5 "Hematology"
6 "Hepatology"
7 "Nephrology"
8 "Neurology"
10 "Pulmonary medicine"
11 "Psychiatry"
12 "Oral health (Dentistry)"
13 "Urology"
28 "General surgery"
35 "Neurosurgery"
38 "Truma unit"
39 "Otolaryngology (ENT)"
41 "Plastic surgery"
42 "Renal transplant"
44 "Special clinic"
45 "Anatomy"
46 "Biochemistry"
47 "College of Nursing"
48 "Pathology"
49 "Pharmacology"
50 "Forensic Medicine and Toxicology"
51 "Medical Education"
52 "Medical Biometrics and Informatics (Biostatistics)"
53 "Physiology"
54 "Microbiology"
55 "Preventive and Social Medicine"
57 "Obstetrics and Gynaecology"
58 "Ophthalmology"
59 "Orthopaedic Surgery"
60 "Pediatric Surgery"
62 "Surgical Gastroenterology"
63 "Surgical Oncology"
64 "Surgery"
67 "Cardio thoracic and Vascular Surgery"
68 "Anaesthesiology & Critical Care"
71 "Dermatology and STD"
72 "Endocrinology"
73 "Medical Gastroenterology"
74 "Medical Oncology"
77 "Nuclear Medicine"
79 "Pediatric"
82 "Radiotherapy"
83 "Radio diagnosis"
84 "Transfusion Medicine"
85 "Physical Medicine and Rehabilitation (PMR)"
86 "Clinical Immunology"
87 "Clinical Pharmacology"
88 "Emergency Medicine and Trauma"
89 "Neonatology"
93 "G.I. Surgery"
94 "Geriatric medicine"
95 "IRCH (Malignancy)"
96 "Advance Trauma Centre"
97 "Anaesthesia and Intensive Care"
98 "Bone Marrow Transplant"
99 "Burn Unit"
101 "Communicable Disease Ward"
102 "Drug De-Addiction and Treatment"
103 "Emergency Medicine"
104 "Emergency Surgery"
107 "High Dependency Unit (HDU)"
108 "Internal Medicine"
114 "Orthopedics"
116 "Pediatric Medicine"
117 "Pediatric Orthopedics"
120 "Pulmonology"
123 "Others"
124 "Accident and Emergency"
125 "Anaesthesia"
127 "Cardio thoracic surgery"
128 "Child health"
129 "Community health and Development"
130 "Dental and Oral surgery"
134 "Family medicine"
136 "Geriatrics"
137 "Gynaecologic oncology"
139 "Hand and Leprosy reconstructive surgery"
140 "Low Cost Effective Care Unit (LCECU)"
145 "Neurosciences"
152 "Reproductive medicine"
153 "Respiratory medicine"
154 "Rheumatology"
155 "Rural Unit for Health and Social Affairs (RUHSA)"
156 "Staff student health service"
157 "Breast Oncology"
158 "Urological Oncology"
159 "Head and Neck Surgical Oncology"
160 "Gastro-intestinal and hepatobiliary surgical oncology"
161 "Pediatric Oncology"
162 "Clinical Nutrition"
'''
text_to_dict_and_replace(df, 'Hospital department', text10)


text11 = '''1 "ICU"
2 "OPD"
3 "Ward"
'''
text_to_dict_and_replace(df, 'Hospital Department type', text11)


text12 = '''1 "Community Acquired Infection"
2 "Health Care Associated" Infection
3 "Not Known"
'''
text_to_dict_and_replace(df, 'Infection Type', text12)


text13 = '''0 "no"
1 "yes"
'''
text_to_dict_and_replace(df, 'Whether device used?', text13)


text14 = '''1 "ICU"
2 "Ward"
'''
text_to_dict_and_replace(df, 'Prior Admission in Last 3 months', text14)


text15 = '''1 "BAL"
3 "Sputum"
4 "Deep Biopsy"
5 "Blood-central catheter"
6 "Blood-peripheral"
7 "CSF"
8 "Fluid from sterile site"
9 "Genital tract"
10 "Ocular-superficial"
11 "Ocular-deep"
12 "Pus/exudate"
13 "Faeces"
14 "Throat swab"
15 "Urine"
16 "Wound swab"
17 "Abdominal fluid"
18 "Abscess aspirate"
20 "Bile"
21 "Brain abscess"
22 "Lung aspirate"
23 "Endotracheal aspirate (ETA)"
24 "Ethmoidal tissue"
25 "FNAC"
27 "Gastric fluid"
28 "ICTD fluid"
29 "Intestinal fluid"
30 "Intra operative bile"
31 "Intra operative fluid"
32 "Intracostal tube fluid"
34 "Joint Fluid"
35 "Iobectomy tissue"
36 "Maxillary alveolar tissue"
38 "Maxillary sinus"
44 "Nasal scrapping"
45 "Nasal tissue"
46 "Necrosum"
47 "Needle aspirate"
48 "Oral cavity crust"
49 "Palatal mucosa"
50 "Palatal scrapping"
52 "Pancreatic drain fluid"
53 "Pericardial fluid"
54 "Peripheral catheter-blood"
55 "Peritoneal fluid"
56 "Pigtail fluid"
57 "Pleural fluid"
58 "PTBD fluid"
60 "Sinus mass"
62 "Skin biopsy"
63 "Deep Tissue"
64 "Vitreous fluid"
65 "Cervical Swab"
66 "Drain Fluid"
67 "Placental Membrane"
68 "Semen"
69 "Ear Swab"
70 "Bone"
71 "Nail"
72 "Hair"
73 "Instrument"
74 "Vaginal swab"
75 "Others"
76 "Bone Marrow"
77 "Vascular Catheter tip"
78 "Endometrium"
79 "Lymph node"
80 "Skin and Soft Tissue"
81 "Superficial Biopsy"
82 "Superficial Tissue"
83 "Pus aspirate"
84 "Abdominal Tissue"
85 "Abdominal Pus"
'''
text_to_dict_and_replace(df, 'Sample Type', text15)


text16 = '''0 "no"
1 "yes"
'''
text_to_dict_and_replace(df, 'antibiotic prescription in last 1 months?', text16)


df.to_csv('ICMR Antimicrobial Resistance.csv', index=False)
















