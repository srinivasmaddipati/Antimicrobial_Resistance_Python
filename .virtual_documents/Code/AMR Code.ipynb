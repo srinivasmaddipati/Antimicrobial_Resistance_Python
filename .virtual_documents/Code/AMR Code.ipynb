





import os
import numpy as np
import pandas as pd
import matplotlib.pyplot as plt
%matplotlib inline
import seaborn as sns
import plotly.express as px
import warnings 
warnings.filterwarnings('ignore')





df = pd.read_csv(r"D:\DS & DA Projects\ICMR Antimicrobial Resistance\Files\ICMR Antimicrobial Resistance.csv")
df.head()





df.shape





df.nunique()





df.describe()





df.info()








df.duplicated().sum()






df.isnull().sum()








df['location type'] = df['location type'].fillna('Unknown')





df['Remarks'] = df['Remarks'].fillna('Unknown')





df['Antibiotic'] = df['Antibiotic'].fillna('Unknown')





df.drop(['Prior Admission in Last 3 months', 'AMR ID', 'Suscepbility ID', 'Sample ID', 'Hospital Patient Relation ID'],
        axis=1, inplace=True)





# Column classification

object_cols = df.select_dtypes(include=['object']).columns
print('Object Columns:')
print(object_cols)

numerical_cols = df.select_dtypes(include=['int64']).columns
print('\nNumerical Columns')
print(numerical_cols)






def classify_features(df):
    '''Classify columns in to catagorical and non-catagorical'''
    categorical_features = []
    non_categorical_features = []

    for column in df.columns:
        if df[column].dtype == 'object':
            if df[column].nunique() < 10:
                categorical_features.append(column)
            else:
                non_categorical_features.append(column)

    return categorical_features, non_categorical_features


categorical, non_categorical = classify_features(df)


# Printing columns
print('Catagorical columns:', categorical)
print()
print('\nNon catagorical columns',non_categorical)
print()





for i in categorical:
    print(i)
    print(df[i].unique())
    print()





for i in categorical:
    print(df[i].value_counts())
    print()











plt.figure(figsize=(15, 5))
sns.histplot(data=df, x=df['Age'], kde=True, bins= 88)
plt.title('Distribution of Patient Age', fontsize= 20, fontweight='bold')
plt.xlabel('Age', fontsize= 14, fontweight= 'bold')
plt.ylabel('Count of Patients', fontsize= 14, fontweight= 'bold')
plt.show()


age_count = df['Age'].value_counts().sort_index()

fig1 = px.bar(data_frame=df,
              x= age_count.index,
              y= age_count.values,
              title= 'Distribution of Patient Age',
              labels={'x': 'Age', 'y': 'Count of Patients'}
             )
fig1.update_layout(width=1100, height=500, title_font=dict(size=20, family="Arial", color="black"))











plt.figure(figsize=(7, 3))
sns.barplot(x= df['Gender'].value_counts(), y= df['Gender'].value_counts().index, hue=df['Gender'].unique())
plt.title('Gender Distribution', fontsize= 16, fontweight='bold')
plt.ylabel('Gender',fontsize= 12, fontweight= 'bold')
plt.xlabel('Count', fontsize= 12, fontweight= 'bold')
plt.show()


gender_count = df['Gender'].value_counts()

fig2 = px.bar(data_frame=df,
              x= gender_count.values,
              y= gender_count.index,
              title= 'Gender Distribution',
              labels= {'x': 'Count', 'y': 'Gender'},
              color= gender_count.index,
             )
fig2.update_layout(width=1100,
                   height=500,
                   title_font=dict(size=20, family="Arial", color="black")
                  )











plt.figure(figsize=(7, 3))
sns.barplot(x= df['location type'].value_counts(), y= df['location type'].value_counts().index, palette='hls')
plt.title('Location type', fontsize= 16, fontweight='bold')
plt.ylabel('Location',fontsize= 12, fontweight= 'bold')
plt.xlabel('Count', fontsize= 12, fontweight= 'bold')
plt.show()


urban_rural_cls = df['location type'].value_counts()

fig3 = px.bar(data_frame= df,
              x= urban_rural_cls.values,
              y= urban_rural_cls.index,
              title= 'Location type',
              labels= {'x': 'Count', 'y': 'Location'},
              color= urban_rural_cls.index
             )

fig3.update_layout(width=1100,
                   height=500,
                   title_font=dict(size=20, family="Arial", color="black")
                  )












plt.figure(figsize=(7, 3))
sns.barplot(y= df['Infection Type'].value_counts(), x= df['Infection Type'].value_counts().index, palette='hls')
plt.title('Infection Type', fontsize= 16, fontweight='bold')
plt.ylabel('Count',fontsize= 12, fontweight= 'bold')
plt.xlabel('Infection', fontsize= 12, fontweight= 'bold')
plt.show()


infection_type = df['Infection Type'].value_counts()

fig4 = px.bar(data_frame= df,
              y= infection_type.values,
              x= infection_type.index,
              title= 'Infection Type',
              labels= {'x': 'Infection', 'y': 'Count'},
              color= infection_type.index
             )
fig4.update_layout(width= 1100,
                   height= 500,
                   title_font = {'size': 20, 'family': 'Arial', 'color': 'black'}
                  )











plt.figure(figsize=(7, 3))
sns.barplot(x= df['Whether device used?'].value_counts(), y= df['Whether device used?'].value_counts().index, palette='hls')
plt.title('Patients with devices', fontsize= 16, fontweight='bold')
plt.ylabel('',fontsize= 12, fontweight= 'bold')
plt.xlabel('Count', fontsize= 12, fontweight= 'bold')
plt.show()


patient_device = df['Whether device used?'].value_counts()

fig5 = px.bar(
    x=patient_device.values,
    y=patient_device.index,
    orientation='h',
    title='Patients with Devices',
    labels={'x': 'Count of Patients', 'y': 'Device Usage'},
    color= patient_device.index
)

fig5.update_layout(
    width=1100,
    height=500,
    title_font={'size': 20, 'family': 'Arial', 'color': 'black'}
)











plt.figure(figsize=(15, 5))
sns.barplot(y= df['State'].value_counts(), x= df['State'].value_counts().index, palette='Set2')
plt.title('State wise Infections', fontsize= 16, fontweight='bold')
plt.ylabel('Infection',fontsize= 12, fontweight= 'bold')
plt.xlabel('States', fontsize= 10, fontweight= 'bold')
plt.xticks(rotation= 45)
plt.show()


state_infection = df['State'].value_counts()

fig6 = px.bar(data_frame= df,
              x= state_infection.index,
              y= state_infection.values,
              title= 'State wise Infections',
              labels= {'x': 'States', 'y': 'Infection Count'},
              color= state_infection.index
             )

fig6.update_layout(
    width=1100,
    height=600,
    title_font={'size': 20, 'family': 'Arial', 'color': 'black'}
)











df['Date of Admission'] = pd.to_datetime(df['Date of Admission'])
df['Year-Month'] = df['Date of Admission'].dt.to_period('M')
date_counts = df['Year-Month'].value_counts().sort_index()
date_counts.index = date_counts.index.astype(str)

plt.figure(figsize=(15, 5))
sns.lineplot(x=date_counts.index, y=date_counts.values)
plt.title('Number of Admissions Over Time', fontsize=16, fontweight='bold')
plt.xlabel('Year-Month', fontsize=12, fontweight='bold')
plt.ylabel('Number of Admissions', fontsize=12, fontweight='bold')
plt.xticks(rotation=45)
plt.show()


fig7 = px.area(data_frame= df,
               x= date_counts.index,
               y= date_counts.values,
               title= 'Number of Admissions Over Time',
               labels= {'x': 'Year-Month', 'y': 'Number of Admisions'},
               markers= True,
               width=1100,
               height=500
              )

fig7.show()











remark_count = df['Remarks'].dropna().value_counts()

fig8 = px.pie(names=remark_count.index,
              values=remark_count.values,
              title="Antimicrobial Resistance")

fig8.update_layout( width=600,
                  height=500,
                  title_font=dict(size=20, family="Arial", color="black")
                 )











resis_state = df.groupby(['State', 'Remarks']).size().reset_index(name='Count')

resis_state = resis_state.sort_values(by='Count', ascending=False)

fig9 = px.bar(data_frame= resis_state,
              x= 'State',
              y= 'Count',
              title= 'State wise Antimicrobial Resistance',
              color= 'Remarks',
              barmode='group'
             )
fig9.update_layout(
    width=1100,
    height=600,
    title_font={'size': 20, 'family': 'Arial', 'color': 'black'}
)













fig10 = px.sunburst(data_frame=df,
                    path= ['Remarks', 'location type', 'Gender'],
                    values= 'Patient ID',
                    title= 'Antimicrobial Resistance by location type and Gender',
                    hover_data= {'Patient ID': False}
                   )
fig10.update_layout(
    width=1000,
    height=800,
    title_font={'size': 20, 'family': 'Arial', 'color': 'black'}
)











resis_pd = df.groupby(['Whether device used?', 'Remarks']).size().reset_index(name='Count')

resis_pd = resis_pd.sort_values(by='Count', ascending=False)

fig11 = px.bar(data_frame= resis_pd,
               x= 'Whether device used?',
               y= 'Count',
               title= 'Antimicrobial Resistance for Patients with devices',
               color= 'Remarks',
               barmode='group'
              )

fig11.update_layout(
    width=1100,
    height=600,
    title_font={'size': 20, 'family': 'Arial', 'color': 'black'}
)











resis_It = df.groupby(['Infection Type', 'Remarks']).size().reset_index(name= 'Count')

resis_It = resis_It.sort_values(by='Count', ascending=False)

fig12 = px.bar(data_frame= resis_It,
               x= 'Infection Type',
               y= 'Count',
               title= 'Antimicrobial resistance for Infection type',
               color= 'Remarks',
               barmode= 'group'
              )

fig12.update_layout(
    width=1100,
    height=600,
    title_font={'size': 20, 'family': 'Arial', 'color': 'black'}
)











resis_organism = df.groupby(['Organism', 'Remarks']).size().reset_index(name='Count')

resis_organism = resis_organism.sort_values(by='Count', ascending=False)

fig14 = px.bar(data_frame= resis_organism,
               x= 'Organism',
               y= 'Count',
               title= 'Antimicrobial resistance for Organism',
               color= 'Remarks',
               barmode= 'group'
              )

fig14.update_layout(
    width=1100,
    height=600,
    title_font={'size': 20, 'family': 'Arial', 'color': 'black'}
)








df_treemap = df.groupby(['Remarks', 'Antibiotic']).size().reset_index(name='Count')

fig16 = px.treemap(data_frame=df_treemap,
                   path=['Remarks', 'Antibiotic'],
                   values='Count',
                   title='Antimicrobial Resistance by Remarks and Antibiotic',
                   hover_data={'Count': True}
)

fig16.update_layout(
    width=1500,
    height=800,
    title_font={'size': 20, 'family': 'Arial', 'color': 'black'}
)



